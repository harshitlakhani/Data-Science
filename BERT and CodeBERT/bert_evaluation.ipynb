{
  "cells": [
    {
      "cell_type": "code",
      "source": [
        "from google.colab import drive\n",
        "drive.mount('/content/drive')"
      ],
      "metadata": {
        "id": "XZmsW0wEPVSt",
        "outputId": "9edf2f5c-aaeb-4a8a-b37b-4d9a20eaffa6",
        "colab": {
          "base_uri": "https://localhost:8080/"
        }
      },
      "execution_count": 151,
      "outputs": [
        {
          "output_type": "stream",
          "name": "stdout",
          "text": [
            "Drive already mounted at /content/drive; to attempt to forcibly remount, call drive.mount(\"/content/drive\", force_remount=True).\n"
          ]
        }
      ]
    },
    {
      "cell_type": "code",
      "source": [
        "pip install transformers"
      ],
      "metadata": {
        "colab": {
          "base_uri": "https://localhost:8080/"
        },
        "id": "NqyTH9QqnxkH",
        "outputId": "002d3583-e96b-4709-d985-bb62f7ee39aa"
      },
      "execution_count": 152,
      "outputs": [
        {
          "output_type": "stream",
          "name": "stdout",
          "text": [
            "Looking in indexes: https://pypi.org/simple, https://us-python.pkg.dev/colab-wheels/public/simple/\n",
            "Requirement already satisfied: transformers in /usr/local/lib/python3.7/dist-packages (4.21.0)\n",
            "Requirement already satisfied: pyyaml>=5.1 in /usr/local/lib/python3.7/dist-packages (from transformers) (6.0)\n",
            "Requirement already satisfied: tokenizers!=0.11.3,<0.13,>=0.11.1 in /usr/local/lib/python3.7/dist-packages (from transformers) (0.12.1)\n",
            "Requirement already satisfied: requests in /usr/local/lib/python3.7/dist-packages (from transformers) (2.23.0)\n",
            "Requirement already satisfied: filelock in /usr/local/lib/python3.7/dist-packages (from transformers) (3.7.1)\n",
            "Requirement already satisfied: huggingface-hub<1.0,>=0.1.0 in /usr/local/lib/python3.7/dist-packages (from transformers) (0.8.1)\n",
            "Requirement already satisfied: importlib-metadata in /usr/local/lib/python3.7/dist-packages (from transformers) (4.12.0)\n",
            "Requirement already satisfied: numpy>=1.17 in /usr/local/lib/python3.7/dist-packages (from transformers) (1.21.6)\n",
            "Requirement already satisfied: tqdm>=4.27 in /usr/local/lib/python3.7/dist-packages (from transformers) (4.64.0)\n",
            "Requirement already satisfied: packaging>=20.0 in /usr/local/lib/python3.7/dist-packages (from transformers) (21.3)\n",
            "Requirement already satisfied: regex!=2019.12.17 in /usr/local/lib/python3.7/dist-packages (from transformers) (2022.6.2)\n",
            "Requirement already satisfied: typing-extensions>=3.7.4.3 in /usr/local/lib/python3.7/dist-packages (from huggingface-hub<1.0,>=0.1.0->transformers) (4.1.1)\n",
            "Requirement already satisfied: pyparsing!=3.0.5,>=2.0.2 in /usr/local/lib/python3.7/dist-packages (from packaging>=20.0->transformers) (3.0.9)\n",
            "Requirement already satisfied: zipp>=0.5 in /usr/local/lib/python3.7/dist-packages (from importlib-metadata->transformers) (3.8.1)\n",
            "Requirement already satisfied: urllib3!=1.25.0,!=1.25.1,<1.26,>=1.21.1 in /usr/local/lib/python3.7/dist-packages (from requests->transformers) (1.24.3)\n",
            "Requirement already satisfied: certifi>=2017.4.17 in /usr/local/lib/python3.7/dist-packages (from requests->transformers) (2022.6.15)\n",
            "Requirement already satisfied: idna<3,>=2.5 in /usr/local/lib/python3.7/dist-packages (from requests->transformers) (2.10)\n",
            "Requirement already satisfied: chardet<4,>=3.0.2 in /usr/local/lib/python3.7/dist-packages (from requests->transformers) (3.0.4)\n"
          ]
        }
      ]
    },
    {
      "cell_type": "code",
      "source": [
        "pip install sentence-transformers"
      ],
      "metadata": {
        "colab": {
          "base_uri": "https://localhost:8080/"
        },
        "id": "i_ctA8PyUd9m",
        "outputId": "c74901fe-930d-40c9-c7e6-7d6e22794b73"
      },
      "execution_count": 153,
      "outputs": [
        {
          "output_type": "stream",
          "name": "stdout",
          "text": [
            "Looking in indexes: https://pypi.org/simple, https://us-python.pkg.dev/colab-wheels/public/simple/\n",
            "Requirement already satisfied: sentence-transformers in /usr/local/lib/python3.7/dist-packages (2.2.2)\n",
            "Requirement already satisfied: scipy in /usr/local/lib/python3.7/dist-packages (from sentence-transformers) (1.7.3)\n",
            "Requirement already satisfied: torch>=1.6.0 in /usr/local/lib/python3.7/dist-packages (from sentence-transformers) (1.12.0+cu113)\n",
            "Requirement already satisfied: nltk in /usr/local/lib/python3.7/dist-packages (from sentence-transformers) (3.7)\n",
            "Requirement already satisfied: sentencepiece in /usr/local/lib/python3.7/dist-packages (from sentence-transformers) (0.1.96)\n",
            "Requirement already satisfied: huggingface-hub>=0.4.0 in /usr/local/lib/python3.7/dist-packages (from sentence-transformers) (0.8.1)\n",
            "Requirement already satisfied: tqdm in /usr/local/lib/python3.7/dist-packages (from sentence-transformers) (4.64.0)\n",
            "Requirement already satisfied: transformers<5.0.0,>=4.6.0 in /usr/local/lib/python3.7/dist-packages (from sentence-transformers) (4.21.0)\n",
            "Requirement already satisfied: torchvision in /usr/local/lib/python3.7/dist-packages (from sentence-transformers) (0.13.0+cu113)\n",
            "Requirement already satisfied: numpy in /usr/local/lib/python3.7/dist-packages (from sentence-transformers) (1.21.6)\n",
            "Requirement already satisfied: scikit-learn in /usr/local/lib/python3.7/dist-packages (from sentence-transformers) (1.0.2)\n",
            "Requirement already satisfied: packaging>=20.9 in /usr/local/lib/python3.7/dist-packages (from huggingface-hub>=0.4.0->sentence-transformers) (21.3)\n",
            "Requirement already satisfied: typing-extensions>=3.7.4.3 in /usr/local/lib/python3.7/dist-packages (from huggingface-hub>=0.4.0->sentence-transformers) (4.1.1)\n",
            "Requirement already satisfied: requests in /usr/local/lib/python3.7/dist-packages (from huggingface-hub>=0.4.0->sentence-transformers) (2.23.0)\n",
            "Requirement already satisfied: importlib-metadata in /usr/local/lib/python3.7/dist-packages (from huggingface-hub>=0.4.0->sentence-transformers) (4.12.0)\n",
            "Requirement already satisfied: filelock in /usr/local/lib/python3.7/dist-packages (from huggingface-hub>=0.4.0->sentence-transformers) (3.7.1)\n",
            "Requirement already satisfied: pyyaml>=5.1 in /usr/local/lib/python3.7/dist-packages (from huggingface-hub>=0.4.0->sentence-transformers) (6.0)\n",
            "Requirement already satisfied: pyparsing!=3.0.5,>=2.0.2 in /usr/local/lib/python3.7/dist-packages (from packaging>=20.9->huggingface-hub>=0.4.0->sentence-transformers) (3.0.9)\n",
            "Requirement already satisfied: tokenizers!=0.11.3,<0.13,>=0.11.1 in /usr/local/lib/python3.7/dist-packages (from transformers<5.0.0,>=4.6.0->sentence-transformers) (0.12.1)\n",
            "Requirement already satisfied: regex!=2019.12.17 in /usr/local/lib/python3.7/dist-packages (from transformers<5.0.0,>=4.6.0->sentence-transformers) (2022.6.2)\n",
            "Requirement already satisfied: zipp>=0.5 in /usr/local/lib/python3.7/dist-packages (from importlib-metadata->huggingface-hub>=0.4.0->sentence-transformers) (3.8.1)\n",
            "Requirement already satisfied: click in /usr/local/lib/python3.7/dist-packages (from nltk->sentence-transformers) (7.1.2)\n",
            "Requirement already satisfied: joblib in /usr/local/lib/python3.7/dist-packages (from nltk->sentence-transformers) (1.1.0)\n",
            "Requirement already satisfied: idna<3,>=2.5 in /usr/local/lib/python3.7/dist-packages (from requests->huggingface-hub>=0.4.0->sentence-transformers) (2.10)\n",
            "Requirement already satisfied: certifi>=2017.4.17 in /usr/local/lib/python3.7/dist-packages (from requests->huggingface-hub>=0.4.0->sentence-transformers) (2022.6.15)\n",
            "Requirement already satisfied: chardet<4,>=3.0.2 in /usr/local/lib/python3.7/dist-packages (from requests->huggingface-hub>=0.4.0->sentence-transformers) (3.0.4)\n",
            "Requirement already satisfied: urllib3!=1.25.0,!=1.25.1,<1.26,>=1.21.1 in /usr/local/lib/python3.7/dist-packages (from requests->huggingface-hub>=0.4.0->sentence-transformers) (1.24.3)\n",
            "Requirement already satisfied: threadpoolctl>=2.0.0 in /usr/local/lib/python3.7/dist-packages (from scikit-learn->sentence-transformers) (3.1.0)\n",
            "Requirement already satisfied: pillow!=8.3.*,>=5.3.0 in /usr/local/lib/python3.7/dist-packages (from torchvision->sentence-transformers) (7.1.2)\n"
          ]
        }
      ]
    },
    {
      "cell_type": "code",
      "source": [
        "pip install rank-bm25"
      ],
      "metadata": {
        "colab": {
          "base_uri": "https://localhost:8080/"
        },
        "id": "tMgaraiHdBQI",
        "outputId": "c64b3547-03a1-493e-a870-40ec64c39408"
      },
      "execution_count": 154,
      "outputs": [
        {
          "output_type": "stream",
          "name": "stdout",
          "text": [
            "Looking in indexes: https://pypi.org/simple, https://us-python.pkg.dev/colab-wheels/public/simple/\n",
            "Requirement already satisfied: rank-bm25 in /usr/local/lib/python3.7/dist-packages (0.2.2)\n",
            "Requirement already satisfied: numpy in /usr/local/lib/python3.7/dist-packages (from rank-bm25) (1.21.6)\n"
          ]
        }
      ]
    },
    {
      "cell_type": "code",
      "source": [
        "import os\n",
        "from sklearn.feature_extraction.text import TfidfVectorizer\n",
        "from sklearn.metrics.pairwise import cosine_similarity\n",
        "from sklearn.feature_extraction.text import CountVectorizer\n",
        "from scipy.spatial import distance\n",
        "from sentence_transformers import SentenceTransformer\n",
        "from tqdm import tqdm\n",
        "from rank_bm25 import BM25Okapi\n",
        "from transformers import AutoTokenizer, AutoModel\n",
        "import torch\n",
        "\n",
        "from sklearn.metrics.pairwise import cosine_similarity\n",
        "\n",
        "import math\n",
        "import numpy as np"
      ],
      "metadata": {
        "id": "QVWI8TSqPGa6"
      },
      "execution_count": 155,
      "outputs": []
    },
    {
      "cell_type": "code",
      "source": [
        "codebert_tokenizer = AutoTokenizer.from_pretrained(\"microsoft/codebert-base\")\n",
        "codebert_model = AutoModel.from_pretrained(\"microsoft/codebert-base\")"
      ],
      "metadata": {
        "id": "P1yLYAVsoFeV"
      },
      "execution_count": 156,
      "outputs": []
    },
    {
      "cell_type": "code",
      "source": [
        "bert_model = SentenceTransformer('bert-base-uncased')\n",
        "bert_model.to(torch.device('cuda:0'))"
      ],
      "metadata": {
        "colab": {
          "base_uri": "https://localhost:8080/"
        },
        "id": "tO_SXrgGQiUR",
        "outputId": "01d349b4-5313-4c3c-9192-804fdde7777b"
      },
      "execution_count": 157,
      "outputs": [
        {
          "output_type": "stream",
          "name": "stderr",
          "text": [
            "WARNING:sentence_transformers.SentenceTransformer:No sentence-transformers model found with name /root/.cache/torch/sentence_transformers/bert-base-uncased. Creating a new one with MEAN pooling.\n",
            "Some weights of the model checkpoint at /root/.cache/torch/sentence_transformers/bert-base-uncased were not used when initializing BertModel: ['cls.predictions.decoder.weight', 'cls.seq_relationship.weight', 'cls.predictions.transform.dense.weight', 'cls.predictions.transform.dense.bias', 'cls.predictions.transform.LayerNorm.bias', 'cls.predictions.transform.LayerNorm.weight', 'cls.seq_relationship.bias', 'cls.predictions.bias']\n",
            "- This IS expected if you are initializing BertModel from the checkpoint of a model trained on another task or with another architecture (e.g. initializing a BertForSequenceClassification model from a BertForPreTraining model).\n",
            "- This IS NOT expected if you are initializing BertModel from the checkpoint of a model that you expect to be exactly identical (initializing a BertForSequenceClassification model from a BertForSequenceClassification model).\n"
          ]
        },
        {
          "output_type": "execute_result",
          "data": {
            "text/plain": [
              "SentenceTransformer(\n",
              "  (0): Transformer({'max_seq_length': 512, 'do_lower_case': False}) with Transformer model: BertModel \n",
              "  (1): Pooling({'word_embedding_dimension': 768, 'pooling_mode_cls_token': False, 'pooling_mode_mean_tokens': True, 'pooling_mode_max_tokens': False, 'pooling_mode_mean_sqrt_len_tokens': False})\n",
              ")"
            ]
          },
          "metadata": {},
          "execution_count": 157
        }
      ]
    },
    {
      "cell_type": "code",
      "source": [
        "def retrieval_bm25(bm25, file_indexes,  query):    \n",
        "    tokenized_query = query.split(\" \")    \n",
        "    doc_scores = bm25.get_scores(tokenized_query)\n",
        "    file_score_dict = {}\n",
        "    for i in range(len(doc_scores)):\n",
        "        file_index = file_indexes[i]\n",
        "        file_score = doc_scores[i]\n",
        "        file_score_dict[file_index] = file_score\n",
        "\n",
        "    return file_score_dict\n",
        "\n",
        "def retrieval_bm25_revised(bm25, file_indexes, query, length_score_dict):\n",
        "    tokenized_query = query.split(\" \")    \n",
        "    doc_scores = bm25.get_scores(tokenized_query)\n",
        "    file_score_dict = {}\n",
        "    for i in range(len(doc_scores)):\n",
        "        file_index = file_indexes[i]\n",
        "        length_score = length_score_dict[file_index]\n",
        "        file_score = doc_scores[i] * length_score\n",
        "        file_score_dict[file_index] = file_score\n",
        "\n",
        "    return file_score_dict\n",
        "\n",
        "\n",
        "def retrieval_tfidf(vectorizer, file_tfidf, file_indexes, query):\n",
        "    query_tfidf = vectorizer.transform([query])\n",
        "    sim_scores = cosine_similarity(query_tfidf, file_tfidf).flatten()\n",
        "    file_score_dict = {}\n",
        "    for i in range(len(file_indexes)):\n",
        "        file_index = file_indexes[i]\n",
        "        file_score = sim_scores[i]\n",
        "        file_score_dict[file_index] = file_score\n",
        "    return file_score_dict\n",
        "\n",
        "def retrieval_tfidf_revised(vectorizer, file_tfidf, file_indexes, query, length_score_dict):\n",
        "    query_tfidf = vectorizer.transform([query])\n",
        "    sim_scores = cosine_similarity(query_tfidf, file_tfidf).flatten()\n",
        "    file_score_dict = {}\n",
        "    for i in range(len(file_indexes)):        \n",
        "        file_index = file_indexes[i]\n",
        "        file_score = sim_scores[i]        \n",
        "        length_score = length_score_dict[file_index]\n",
        "        file_score = file_score * length_score\n",
        "        file_score_dict[file_index] = file_score\n",
        "\n",
        "    return file_score_dict\n",
        "\n",
        "\n",
        "def retrieval_bert(bert_model, file_indexes, file_embedding, query):\n",
        "  query_embedding = bert_model.encode(query)\n",
        "  sim_score = cosine_similarity([query_embedding],file_embedding)\n",
        "  file_score_dict = {}\n",
        "  for i in range(len(file_indexes)):\n",
        "      file_index = file_indexes[i]\n",
        "      file_score = sim_score[0][i]\n",
        "      file_score_dict[file_index] = file_score\n",
        "  return file_score_dict\n",
        "\n",
        "\n",
        "def retrieval_codebert(codebert_model, codebert_tokenizer, file_indexes, file_embedding, query):\n",
        "  tokens = codebert_tokenizer(query, padding=True, truncation=True)\n",
        "  token_ids = tokens_ids=codebert_tokenizer.convert_tokens_to_ids(tokens)\n",
        "  query_embedding = codebert_model(torch.tensor(tokens_ids)[None,:])[0]\n",
        "  embedding = query_embedding[:, 0, :]\n",
        "\n",
        "  sim_score = cosine_similarity(query_embedding[0].detach().numpy(),file_embedding)\n",
        "  file_score_dict = {}\n",
        "  for i in range(len(file_indexes)):\n",
        "      file_index = file_indexes[i]\n",
        "      file_score = sim_score[0][i]\n",
        "      file_score_dict[file_index] = file_score\n",
        "  return file_score_dict\n",
        "\n",
        "def retrieval_lsi(dictionary, lsi, index, file_indexes, query):\n",
        "\n",
        "    vec_bow = dictionary.doc2bow(query.lower().split())\n",
        "    vec_lsi = lsi[vec_bow]  # convert the query to LSI space\n",
        "    sims = index[vec_lsi]              \n",
        "    \n",
        "    file_score_dict = {}\n",
        "    for i in range(len(sims)):\n",
        "        file_index = file_indexes[i]\n",
        "        file_score = sims[i]\n",
        "        file_score_dict[file_index] = file_score\n",
        "\n",
        "    return file_score_dict\n",
        "\n",
        "def retrieval_jsm(documents_term_prob_matrix, file_indexes, query_term_prob_list):\n",
        "    \n",
        "    ind = 0\n",
        "    file_score_dict = {}\n",
        "    for doc_probs in documents_term_prob_matrix:\n",
        "        score = distance.jensenshannon(doc_probs,query_term_prob_list)\n",
        "        file_id = file_indexes[ind]\n",
        "        ind += 1\n",
        "        file_score_dict[file_id] = 1- score\n",
        "    return file_score_dict\n",
        "\n",
        "\n",
        "# for JSM\n",
        "def get_doc_term_probs_jsm(files_corpus):  \n",
        "    cnt_vectorizer = CountVectorizer(max_features=10000)\n",
        "    X = cnt_vectorizer.fit_transform(files_corpus)\n",
        "    X_terms = cnt_vectorizer.get_feature_names()\n",
        "        \n",
        "    doc_cnt_matrix = X.toarray()\n",
        "    term_prob_matrix = []\n",
        "    for doc in doc_cnt_matrix:\n",
        "        all_terms = sum(doc)\n",
        "        new_doc = []\n",
        "        for cnt in doc:\n",
        "            value = 0\n",
        "            if cnt != 0:\n",
        "                value = cnt / all_terms\n",
        "            new_doc.append(value)\n",
        "        term_prob_matrix.append(new_doc)\n",
        "    return cnt_vectorizer, term_prob_matrix\n",
        "\n",
        "def get_query_term_probs_jsm(cnt_vectorizer, query):\n",
        "    X_query = cnt_vectorizer.transform([query])\n",
        "    query_cnt = X_query.toarray()[0]\n",
        "    all_terms_query = sum(query_cnt)\n",
        "    new_query_cnt = []\n",
        "    for cnt in query_cnt:\n",
        "        value = 0\n",
        "        if cnt != 0:\n",
        "            value = cnt / all_terms_query\n",
        "        new_query_cnt.append(value)\n",
        "    return new_query_cnt\n",
        "\n",
        "\n",
        "def evaluation(sim_scores, gtf_list, files_num, num_top_index):\n",
        "    sim_scores_sort = sorted(sim_scores.items(), reverse=True, key=lambda item: item[1])\n",
        "    rank = 1\n",
        "    top_rank = files_num\n",
        "    rr = 0\n",
        "    ap = 0\n",
        "    find_bug_num = 0\n",
        "    non_buggy_file_indexes = []\n",
        "    top_file_indexes = []\n",
        "    for key, _ in sim_scores_sort:\n",
        "        if len(gtf_list) == find_bug_num and len(top_file_indexes) == num_top_index:\n",
        "            break\n",
        "        if key in gtf_list:\n",
        "            find_bug_num += 1\n",
        "            if rr == 0:\n",
        "                rr = 1.0 / rank\n",
        "                top_rank = rank\n",
        "            ap += find_bug_num / rank\n",
        "        if len(non_buggy_file_indexes) < 10:\n",
        "            non_buggy_file_indexes.append(key)\n",
        "        if rank < num_top_index:\n",
        "            top_file_indexes.append(key)\n",
        "        rank += 1\n",
        "    if find_bug_num > 0:\n",
        "        ap = ap / find_bug_num\n",
        "\n",
        "    return top_rank, rr, ap, non_buggy_file_indexes, top_file_indexes\n",
        "\n",
        "    \n",
        "def evaluation_wt_bfids(sim_scores, gtf_list, files_num, num_top_index):\n",
        "    sim_scores_sort = sorted(sim_scores.items(), reverse=True, key=lambda item: item[1])\n",
        "    rank = 1\n",
        "    top_rank = files_num\n",
        "    rr = 0\n",
        "    ap = 0\n",
        "    find_bug_num = 0\n",
        "    non_buggy_file_indexes = []\n",
        "    top_file_indexes = []\n",
        "    top_buggy_file_ids = []\n",
        "    for key, _ in sim_scores_sort:\n",
        "        if len(gtf_list) == find_bug_num and len(top_file_indexes) == num_top_index:\n",
        "            break\n",
        "        if key in gtf_list:\n",
        "            find_bug_num += 1\n",
        "            if rr == 0:\n",
        "                rr = 1.0 / rank\n",
        "                top_rank = rank\n",
        "            ap += find_bug_num / rank\n",
        "            top_buggy_file_ids.append(key+\":\"+str(rank))\n",
        "        if len(non_buggy_file_indexes) < 10:\n",
        "            non_buggy_file_indexes.append(key)\n",
        "        if rank < num_top_index:\n",
        "            top_file_indexes.append(key)\n",
        "        rank += 1\n",
        "    if find_bug_num > 0:\n",
        "        ap = ap / find_bug_num\n",
        "    return top_rank, rr, ap, non_buggy_file_indexes, top_file_indexes, top_buggy_file_ids"
      ],
      "metadata": {
        "id": "cpbzL-55WmhK"
      },
      "execution_count": 158,
      "outputs": []
    },
    {
      "cell_type": "code",
      "source": [
        "bugs_path = \"/content/drive/MyDrive/data/scaling_data/data/harshit/Denchmark_query/\"\n",
        "files_path = \"/content/drive/MyDrive/data/scaling_data/data/harshit/Denchmark_file/\"\n",
        "gtfs_path = \"/content/drive/MyDrive/data/scaling_data/data/harshit/Denchmark_gtf/\"\n",
        "irbl_path = \"/content/drive/MyDrive/data/scaling_data/data/harshit/Results_bert\"\n",
        "repos = os.listdir(bugs_path)"
      ],
      "metadata": {
        "id": "sC-ph9ZpPKpu"
      },
      "execution_count": 159,
      "outputs": []
    },
    {
      "cell_type": "code",
      "source": [
        "mrr_vsm = 0\n",
        "map_vsm = 0\n",
        "mrr_rvsm = 0\n",
        "map_rvsm = 0\n",
        "mrr_bm = 0\n",
        "map_bm = 0\n",
        "mrr_codebert = 0\n",
        "map_codebert = 0\n",
        "\n",
        "target_bug_num = 0\n",
        "target_repo_num = 0"
      ],
      "metadata": {
        "id": "q9Ri-M-WPMvG"
      },
      "execution_count": 160,
      "outputs": []
    },
    {
      "cell_type": "code",
      "source": [
        "for repo in repos:\n",
        "    if repo == \".DS_Store\":\n",
        "        continue\n",
        "    versions = os.listdir(bugs_path+repo)\n",
        "    project_bug_num = 0\n",
        "    for version in versions:\n",
        "        if version == \".DS_Store\":\n",
        "            continue\n",
        "        files = os.listdir(files_path+repo+\"/\"+version)\n",
        "        lang_types = set()\n",
        "        for file in files:\n",
        "            if file.endswith(\".txt\") is False:\n",
        "                continue\n",
        "            lang = file.replace(\"KeyMap.txt\", \"\").lower()\n",
        "            file_path = files_path+repo+\"/\"+version+\"/\"+file\n",
        "            f = open(file_path, \"r\", encoding=\"utf8\")\n",
        "            lines = f.readlines()\n",
        "            if len(lines) > 0:\n",
        "                lang_types.add(lang)\n",
        "        if len(lang_types) == 0:\n",
        "            continue\n",
        "\n",
        "        lang_files = {}\n",
        "        lang_file_ids = {}\n",
        "        lang_tfidf = {}\n",
        "        lang_vectorizer = {}\n",
        "        lang_bm25 = {}\n",
        "        lang_bert = {}\n",
        "        lang_length_scores = {}\n",
        "        for lang_type in lang_types:\n",
        "            source_files = os.listdir(files_path+repo+\"/\"+version+\"/\"+lang_type+\"_pp/\")\n",
        "            file_corpus = []\n",
        "            file_id_list = []\n",
        "            file_embedding = []\n",
        "            lengths = []\n",
        "            max_length = 0\n",
        "            min_length = 99999\n",
        "            for source_file in source_files:\n",
        "                file_id = source_file.split(\".\")[len(source_file.split(\".\"))-2]\n",
        "                contents = ' '.join(open(files_path+repo+\"/\"+version+\"/\"+lang_type+\"_pp/\"+source_file, \"r\", encoding=\"utf8\").readlines()).replace(\"\\n\",\" \")\n",
        "                file_corpus.append(contents)\n",
        "                file_id_list.append(lang_type+\"-\"+file_id)\n",
        "                length = len(contents.split())\n",
        "                lengths.append(length)\n",
        "                if max_length < length:\n",
        "                    max_length = length\n",
        "                if min_length > length:\n",
        "                    min_length = length\n",
        "            \n",
        "            length_score_dict = {}\n",
        "            for i in range(len(file_id_list)):\n",
        "                length = lengths[i]\n",
        "                file_id = file_id_list[i]\n",
        "                if max_length == min_length:\n",
        "                    length= 1\n",
        "                else:\n",
        "                    length = (length - min_length) / (max_length - min_length)\n",
        "                if length == 0:\n",
        "                    length = 1\n",
        "                length_score = 1 / (1 + math.exp(-length))\n",
        "                if length_score == 0:\n",
        "                    length_score = 1\n",
        "                length_score_dict[file_id] = length_score\n",
        "            if max_length <= 3 :\n",
        "                continue\n",
        "            \n",
        "            lang_files[lang_type] = file_corpus\n",
        "            lang_file_ids[lang_type] = file_id_list\n",
        "\n",
        "\n",
        "            vectorizer = TfidfVectorizer(stop_words='english', max_features = 10000)\n",
        "            file_tfidf = vectorizer.fit_transform(file_corpus)\n",
        "            lang_tfidf[lang_type] = file_tfidf\n",
        "            lang_vectorizer[lang_type] = vectorizer\n",
        "\n",
        "            tokenized_corpus = [doc.split(\" \") for doc in file_corpus]\n",
        "            bm25_model = BM25Okapi(tokenized_corpus)\n",
        "            lang_bm25[lang_type] = bm25_model\n",
        "\n",
        "            for file_text in tqdm(file_corpus):\n",
        "              file_embedding.append(bert_model.encode(file_text))\n",
        "\n",
        "\n",
        "            lang_length_scores[lang_type] = length_score_dict\n",
        "\n",
        "        bugs = os.listdir(bugs_path+repo+\"/\"+version+\"/\")\n",
        "        for bug in bugs:\n",
        "            if os.path.exists(gtfs_path+repo+\"/\"+version+\"/\"+bug+\".txt\") is False:\n",
        "                continue\n",
        "            query = ' '.join(open(bugs_path+repo+\"/\"+version+\"/\"+bug+\"/query_base-desc.txt\", \"r\", encoding=\"utf8\").readlines()).replace(\"\\n\",\"\")\n",
        "            query_sum = ' '.join(open(bugs_path+repo+\"/\"+version+\"/\"+bug+\"/query_base-sum.txt\", \"r\", encoding=\"utf8\").readlines()).replace(\"\\n\",\"\")\n",
        "            query = query + \" \"+query_sum\n",
        "            query = query.strip()\n",
        "            lines = open(gtfs_path+repo+\"/\"+version+\"/\"+bug+\".txt\", \"r\", encoding=\"utf8\").readlines()\n",
        "            gtf_list = []\n",
        "            lang_set = set()\n",
        "            for line in lines:\n",
        "                line = line.replace(\"\\n\",\"\")\n",
        "                if len(line) < 3:\n",
        "                    continue\n",
        "                gtf_list.append(line)\n",
        "                lang = line.split(\"-\")[0]\n",
        "                lang_set.add(lang)\n",
        "            if os.path.exists(irbl_path+\"/\"+repo+\"/\"+version+\"/\"+bug+\"/sf_sim/\") is False:\n",
        "                os.makedirs(irbl_path+\"/\"+repo+\"/\"+version+\"/\"+bug+\"/sf_sim/\")\n",
        "            for lang in lang_set:\n",
        "                file_ids = lang_file_ids[lang]\n",
        "                files_corpus = lang_files[lang]\n",
        "                vectorizer = lang_vectorizer[lang]\n",
        "                file_tfidf = lang_tfidf[lang]\n",
        "                bm_25 = lang_bm25[lang]\n",
        "                lang_gtf_list = []\n",
        "\n",
        "                for gtf in gtf_list:\n",
        "                    if str(gtf).startswith(lang) is True:\n",
        "                        lang_gtf_list.append(gtf.split(\"-\")[1])\n",
        "                if len(lang_gtf_list) == 0:\n",
        "                    continue\n",
        "\n",
        "                vsm_sim_scores = retrieval_tfidf(vectorizer, file_tfidf, file_ids, query)\n",
        "                vsm_top_rank, vsm_rr, vsm_ap, _, _  = evaluation(vsm_sim_scores, gtf_list, len(files_corpus), 100000)\n",
        "                print(\"VSM:\", repo, version, bug, len(gtf_list), vsm_rr, vsm_ap)\n",
        "\n",
        "                length_score_dict = lang_length_scores[lang]\n",
        "                rvsm_sim_scores = retrieval_tfidf_revised(vectorizer, file_tfidf, file_ids, query, length_score_dict)\n",
        "                rvsm_top_rank, rvsm_rr, rvsm_ap, _, _  = evaluation(rvsm_sim_scores, gtf_list, len(files_corpus), 100000) \n",
        "                print(\"RVSM:\", repo, version, bug, len(gtf_list), rvsm_rr, rvsm_ap)\n",
        "\n",
        "                bm25_sim_scores = retrieval_bm25(bm_25, file_ids, query)\n",
        "                bm25_top_rank, bm25_rr, bm25_ap, _, _  = evaluation(bm25_sim_scores, gtf_list, len(files_corpus), 100000)\n",
        "                print(\"BM25\", repo, version, bug, len(gtf_list), bm25_rr, bm25_ap)\n",
        "\n",
        "                bert_sim_scores = retrieval_bert(bert_model, file_ids, file_embedding, query)\n",
        "                bert_top_rank, bert_rr, bert_ap, _, _  = evaluation(bert_sim_scores, gtf_list, len(files_corpus), 100000)\n",
        "                print(\"BERT:\", repo, version, bug, len(gtf_list),bert_rr, bert_ap)\n",
        "\n",
        "                # codebert_sim_scores = retrieval_codebert(codebert_model, codebert_tokenizer, file_ids, file_embedding, query)\n",
        "                # codebert_top_rank, codebert_rr, codebert_ap, _, _  = evaluation(codebert_sim_scores, gtf_list, len(files_corpus), 100000)\n",
        "                # print(\"CODEBERT:\", repo, version, bug, len(gtf_list),codebert_rr, codebert_ap)\n",
        "\n",
        "                f = open(irbl_path+\"/\"+repo+\"/\"+version+\"/\"+bug+\"/sf_sim/\"+lang+\"_vsm.txt\", \"w\", encoding=\"utf8\")\n",
        "                for file_id in vsm_sim_scores.keys():\n",
        "                    f.write(file_id+\"\\t\"+str(vsm_sim_scores[file_id])+\"\\n\")\n",
        "                f.close()\n",
        "                f = open(irbl_path+\"/\"+repo+\"/\"+version+\"/\"+bug+\"/sf_sim/\"+lang+\"_rvsm.txt\", \"w\", encoding=\"utf8\")\n",
        "                for file_id in rvsm_sim_scores.keys():\n",
        "                    f.write(file_id+\"\\t\"+str(rvsm_sim_scores[file_id])+\"\\n\")\n",
        "                f.close()\n",
        "                f = open(irbl_path+\"/\"+repo+\"/\"+version+\"/\"+bug+\"/sf_sim/\"+lang+\"_bm25.txt\", \"w\", encoding=\"utf8\")\n",
        "                for file_id in bm25_sim_scores.keys():\n",
        "                    f.write(file_id+\"\\t\"+str(bm25_sim_scores[file_id])+\"\\n\")\n",
        "                f.close()\n",
        "                f = open(irbl_path+\"/\"+repo+\"/\"+version+\"/\"+bug+\"/sf_sim/\"+lang+\"_bert.txt\", \"w\", encoding=\"utf8\")\n",
        "                for file_id in bert_sim_scores.keys():\n",
        "                    f.write(file_id+\"\\t\"+str(bert_sim_scores[file_id])+\"\\n\")\n",
        "                f.close()\n",
        "                # f = open(irbl_path+\"/\"+repo+\"/\"+version+\"/\"+bug+\"/sf_sim/\"+lang+\"_cpdebert.txt\", \"w\", encoding=\"utf8\")\n",
        "                # for file_id in codebert_sim_scores.keys():\n",
        "                #     f.write(file_id+\"\\t\"+str(codebert_sim_scores[file_id])+\"\\n\")\n",
        "                # f.close()\n",
        "                \n",
        "                mrr_vsm += vsm_rr\n",
        "                map_vsm += vsm_ap\n",
        "                mrr_rvsm += rvsm_rr\n",
        "                map_rvsm += rvsm_ap\n",
        "                mrr_bm += bm25_rr\n",
        "                map_bm += bm25_ap\n",
        "                mrr_bert += bert_rr\n",
        "                map_bert += bert_ap\n",
        "                # mrr_codebert += codebert_rr\n",
        "                # map_codebert += codebert_ap\n",
        "\n",
        "                target_bug_num += 1\n",
        "                project_bug_num += 1\n",
        "                \n",
        "    if project_bug_num > 0:\n",
        "        target_repo_num += 1\n",
        "\n",
        "    f = open(irbl_path+\"/\"+repo+\"/\"+\"percentage.txt\", \"w\", encoding=\"utf8\")\n",
        "    f.write(\"target_repo_num:\"+\"\\t\"+ str(target_repo_num)+\"\\n\"+ \"target_bug_num:\"+\"\\t\"+str(target_bug_num)+\"\\n\"+ \"project_bug_num:\"+\"\\t\"+str(project_bug_num)+\"\\n\\n\\n\"+\"mrr_vsm/target_bug_num\"+\"\\t\"+ str(mrr_vsm/target_bug_num)+\"\\n\"+ \"mrr_rvsm/target_bug_num\"+\"\\t\"+ str(mrr_rvsm/target_bug_num)+\"\\n\"+ \"mrr_bm/target_bug_num\"+\"\\t\"+str(mrr_bm/target_bug_num)+\"\\n\"+ \"mrr_bert/target_bug_num\"+\"\\t\"+str(mrr_bert/target_bug_num)+\"\\n\"+ \"mrr_codebert/target_bug_num\"+\"\\t\"+str(mrr_codebert/target_bug_num)+\"\\n\"+ \"map_vsm/target_bug_num\"+\"\\t\"+str(map_vsm/target_bug_num)+\"\\n\"+ \"map_rvsm/target_bug_num\"+\"\\t\"+ str(map_rvsm/target_bug_num)+\"\\n\"+ \"map_bm/target_bug_num\"+\"\\t\"+str(map_bm/target_bug_num)+\"\\n\"+ \"map_bert/target_bug_num\"+\"\\t\"+str(map_bert/target_bug_num)+\"\\n\"+ \"map_codebert/target_bug_num\"+\"\\t\"+str(map_codebert/target_bug_num) )\n",
        "\n",
        "    print(\"target_repo_num:\", target_repo_num, \"target_bug_num:\",target_bug_num, \"project_bug_num:\",project_bug_num)\n",
        "    print(\"mrr_vsm/target_bug_num\", mrr_vsm/target_bug_num, \"mrr_rvsm/target_bug_num\", mrr_rvsm/target_bug_num, \"mrr_bm/target_bug_num\",mrr_bm/target_bug_num, \"mrr_bert/target_bug_num\",mrr_bert/target_bug_num, \"mrr_codebert/target_bug_num\", mrr_codebert/target_bug_num, \"map_vsm/target_bug_num\",map_vsm/target_bug_num, \"map_rvsm/target_bug_num\", map_rvsm/target_bug_num, \"map_bm/target_bug_num\", map_bm/target_bug_num, \"map_bert/target_bug_num\",map_bert/target_bug_num, \"map_codebert/target_bug_num\", map_codebert/target_bug_num )\n"
      ],
      "metadata": {
        "id": "m-zgwB9WPAlw",
        "outputId": "12574ab8-1175-44e8-fa9e-1ebec1016bf1",
        "colab": {
          "base_uri": "https://localhost:8080/"
        }
      },
      "execution_count": null,
      "outputs": [
        {
          "output_type": "stream",
          "name": "stderr",
          "text": [
            "100%|██████████| 431/431 [00:18<00:00, 23.45it/s]\n"
          ]
        },
        {
          "output_type": "stream",
          "name": "stdout",
          "text": [
            "VSM: allenai+allennlp v1.2.2 4819 22 0.06666666666666667 0.1748462760269442\n",
            "RVSM: allenai+allennlp v1.2.2 4819 22 0.0625 0.1718688824956517\n",
            "BM25 allenai+allennlp v1.2.2 4819 22 0.16666666666666666 0.1062673022310046\n",
            "BERT: allenai+allennlp v1.2.2 4819 22 0.5 0.07838977606193445\n",
            "VSM: allenai+allennlp v1.2.2 4810 1 1.0 1.0\n",
            "RVSM: allenai+allennlp v1.2.2 4810 1 1.0 1.0\n",
            "BM25 allenai+allennlp v1.2.2 4810 1 1.0 1.0\n",
            "BERT: allenai+allennlp v1.2.2 4810 1 0.16666666666666666 0.16666666666666666\n",
            "VSM: allenai+allennlp v1.2.2 4825 2 1.0 0.8333333333333333\n",
            "RVSM: allenai+allennlp v1.2.2 4825 2 1.0 0.8333333333333333\n",
            "BM25 allenai+allennlp v1.2.2 4825 2 1.0 1.0\n",
            "BERT: allenai+allennlp v1.2.2 4825 2 0.125 0.1625\n"
          ]
        },
        {
          "output_type": "stream",
          "name": "stderr",
          "text": [
            "100%|██████████| 422/422 [00:13<00:00, 31.43it/s]\n"
          ]
        },
        {
          "output_type": "stream",
          "name": "stdout",
          "text": [
            "VSM: allenai+allennlp v1.1.0rc4 4612 2 0.5 0.3055555555555556\n",
            "RVSM: allenai+allennlp v1.1.0rc4 4612 2 1.0 0.5526315789473684\n",
            "BM25 allenai+allennlp v1.1.0rc4 4612 2 1.0 0.5769230769230769\n",
            "BERT: allenai+allennlp v1.1.0rc4 4612 2 1.0 0.6428571428571428\n"
          ]
        },
        {
          "output_type": "stream",
          "name": "stderr",
          "text": [
            "100%|██████████| 434/434 [00:13<00:00, 31.06it/s]\n"
          ]
        },
        {
          "output_type": "stream",
          "name": "stdout",
          "text": [
            "VSM: allenai+allennlp v1.2.0rc1 4757 1 0.5 0.5\n",
            "RVSM: allenai+allennlp v1.2.0rc1 4757 1 1.0 1.0\n",
            "BM25 allenai+allennlp v1.2.0rc1 4757 1 1.0 1.0\n",
            "BERT: allenai+allennlp v1.2.0rc1 4757 1 1.0 1.0\n",
            "VSM: allenai+allennlp v1.2.0rc1 4750 1 0.25 0.25\n",
            "RVSM: allenai+allennlp v1.2.0rc1 4750 1 0.3333333333333333 0.3333333333333333\n",
            "BM25 allenai+allennlp v1.2.0rc1 4750 1 1.0 1.0\n",
            "BERT: allenai+allennlp v1.2.0rc1 4750 1 0.01 0.01\n",
            "target_repo_num: 1 target_bug_num: 6 project_bug_num: 6\n",
            "mrr_vsm/target_bug_num 0.5527777777777777 mrr_rvsm/target_bug_num 0.7326388888888888 mrr_bm/target_bug_num 0.8611111111111112 mrr_bert/target_bug_num 0.4669444444444444 mrr_codebert/target_bug_num 0.0 map_vsm/target_bug_num 0.5106225274859723 map_rvsm/target_bug_num 0.6485278546849477 map_bm/target_bug_num 0.7805317298590135 map_bert/target_bug_num 0.34340226426429066 map_codebert/target_bug_num 0.0\n"
          ]
        },
        {
          "output_type": "stream",
          "name": "stderr",
          "text": [
            "100%|██████████| 72/72 [00:02<00:00, 28.82it/s]\n"
          ]
        },
        {
          "output_type": "stream",
          "name": "stdout",
          "text": [
            "VSM: amaiya+ktrain v0.11.3 93 2 1.0 0.5142857142857142\n",
            "RVSM: amaiya+ktrain v0.11.3 93 2 1.0 0.5142857142857142\n",
            "BM25 amaiya+ktrain v0.11.3 93 2 1.0 0.5140845070422535\n",
            "BERT: amaiya+ktrain v0.11.3 93 2 0.02857142857142857 0.028370221327967807\n",
            "target_repo_num: 2 target_bug_num: 7 project_bug_num: 1\n",
            "mrr_vsm/target_bug_num 0.6166666666666666 mrr_rvsm/target_bug_num 0.7708333333333333 mrr_bm/target_bug_num 0.880952380952381 mrr_bert/target_bug_num 0.4043197278911564 mrr_codebert/target_bug_num 0.0 map_vsm/target_bug_num 0.5111458398859353 map_rvsm/target_bug_num 0.6293504060564857 map_bm/target_bug_num 0.7424678408851906 map_bert/target_bug_num 0.2983976867019588 map_codebert/target_bug_num 0.0\n"
          ]
        },
        {
          "output_type": "stream",
          "name": "stderr",
          "text": [
            "100%|██████████| 36/36 [00:01<00:00, 27.86it/s]\n"
          ]
        },
        {
          "output_type": "stream",
          "name": "stdout",
          "text": [
            "VSM: albumentations-team+albumentations 0.5.1 760 1 0.16666666666666666 0.16666666666666666\n",
            "RVSM: albumentations-team+albumentations 0.5.1 760 1 0.25 0.25\n",
            "BM25 albumentations-team+albumentations 0.5.1 760 1 0.3333333333333333 0.3333333333333333\n",
            "BERT: albumentations-team+albumentations 0.5.1 760 1 0.16666666666666666 0.16666666666666666\n"
          ]
        },
        {
          "output_type": "stream",
          "name": "stderr",
          "text": [
            "100%|██████████| 26/26 [00:00<00:00, 34.34it/s]\n"
          ]
        },
        {
          "output_type": "stream",
          "name": "stdout",
          "text": [
            "VSM: albumentations-team+albumentations v0.1.1 215 1 0.2 0.2\n",
            "RVSM: albumentations-team+albumentations v0.1.1 215 1 0.2 0.2\n",
            "BM25 albumentations-team+albumentations v0.1.1 215 1 0.3333333333333333 0.3333333333333333\n",
            "BERT: albumentations-team+albumentations v0.1.1 215 1 0.07692307692307693 0.07692307692307693\n",
            "VSM: albumentations-team+albumentations v0.1.1 186 3 1.0 0.5435897435897435\n",
            "RVSM: albumentations-team+albumentations v0.1.1 186 3 1.0 0.4935897435897436\n",
            "BM25 albumentations-team+albumentations v0.1.1 186 3 1.0 0.49074074074074076\n",
            "BERT: albumentations-team+albumentations v0.1.1 186 3 0.5 0.32407407407407407\n",
            "VSM: albumentations-team+albumentations v0.1.1 180 1 0.2 0.2\n",
            "RVSM: albumentations-team+albumentations v0.1.1 180 1 0.2 0.2\n",
            "BM25 albumentations-team+albumentations v0.1.1 180 1 0.5 0.5\n",
            "BERT: albumentations-team+albumentations v0.1.1 180 1 0.5 0.5\n",
            "VSM: albumentations-team+albumentations v0.1.1 207 2 1.0 1.0\n",
            "RVSM: albumentations-team+albumentations v0.1.1 207 2 1.0 1.0\n",
            "BM25 albumentations-team+albumentations v0.1.1 207 2 0.25 0.26785714285714285\n",
            "BERT: albumentations-team+albumentations v0.1.1 207 2 0.5 0.3088235294117647\n",
            "VSM: albumentations-team+albumentations v0.1.1 213 2 0.25 0.225\n",
            "RVSM: albumentations-team+albumentations v0.1.1 213 2 0.5 0.375\n",
            "BM25 albumentations-team+albumentations v0.1.1 213 2 0.5 0.5833333333333333\n",
            "BERT: albumentations-team+albumentations v0.1.1 213 2 0.3333333333333333 0.41666666666666663\n",
            "target_repo_num: 3 target_bug_num: 13 project_bug_num: 6\n",
            "mrr_vsm/target_bug_num 0.5487179487179488 mrr_rvsm/target_bug_num 0.657371794871795 mrr_bm/target_bug_num 0.6987179487179487 mrr_bert/target_bug_num 0.37747393632009013 mrr_codebert/target_bug_num 0.0 map_vsm/target_bug_num 0.4548674838044583 map_rvsm/target_bug_num 0.5326186604603957 map_bm/target_bug_num 0.5927594438303244 map_bert/target_bug_num 0.29861060158892 map_codebert/target_bug_num 0.0\n"
          ]
        },
        {
          "output_type": "stream",
          "name": "stderr",
          "text": [
            "100%|██████████| 4/4 [00:00<00:00, 45.80it/s]\n",
            "100%|██████████| 21/21 [00:00<00:00, 53.95it/s]\n",
            "100%|██████████| 21/21 [00:00<00:00, 57.86it/s]\n",
            "100%|██████████| 3/3 [00:00<00:00, 48.00it/s]\n",
            "100%|██████████| 18/18 [00:00<00:00, 53.70it/s]\n"
          ]
        },
        {
          "output_type": "stream",
          "name": "stdout",
          "text": [
            "target_repo_num: 3 target_bug_num: 13 project_bug_num: 0\n",
            "mrr_vsm/target_bug_num 0.5487179487179488 mrr_rvsm/target_bug_num 0.657371794871795 mrr_bm/target_bug_num 0.6987179487179487 mrr_bert/target_bug_num 0.37747393632009013 mrr_codebert/target_bug_num 0.0 map_vsm/target_bug_num 0.4548674838044583 map_rvsm/target_bug_num 0.5326186604603957 map_bm/target_bug_num 0.5927594438303244 map_bert/target_bug_num 0.29861060158892 map_codebert/target_bug_num 0.0\n"
          ]
        },
        {
          "output_type": "stream",
          "name": "stderr",
          "text": [
            "100%|██████████| 267/267 [00:10<00:00, 24.91it/s]\n"
          ]
        },
        {
          "output_type": "stream",
          "name": "stdout",
          "text": [
            "VSM: allegroai+clearml 0.16.3 253 1 0.043478260869565216 0.043478260869565216\n",
            "RVSM: allegroai+clearml 0.16.3 253 1 0.05263157894736842 0.05263157894736842\n",
            "BM25 allegroai+clearml 0.16.3 253 1 0.16666666666666666 0.16666666666666666\n",
            "BERT: allegroai+clearml 0.16.3 253 1 0.02631578947368421 0.02631578947368421\n",
            "VSM: allegroai+clearml 0.16.3 258 1 0.03333333333333333 0.03333333333333333\n",
            "RVSM: allegroai+clearml 0.16.3 258 1 0.03571428571428571 0.03571428571428571\n",
            "BM25 allegroai+clearml 0.16.3 258 1 0.058823529411764705 0.058823529411764705\n",
            "BERT: allegroai+clearml 0.16.3 258 1 0.007692307692307693 0.007692307692307693\n"
          ]
        },
        {
          "output_type": "stream",
          "name": "stderr",
          "text": [
            "100%|██████████| 180/180 [00:08<00:00, 22.38it/s]\n"
          ]
        },
        {
          "output_type": "stream",
          "name": "stdout",
          "text": [
            "VSM: allegroai+clearml 0.14.1 123 1 0.1111111111111111 0.1111111111111111\n",
            "RVSM: allegroai+clearml 0.14.1 123 1 0.1 0.1\n",
            "BM25 allegroai+clearml 0.14.1 123 1 0.03571428571428571 0.03571428571428571\n",
            "BERT: allegroai+clearml 0.14.1 123 1 0.041666666666666664 0.041666666666666664\n"
          ]
        },
        {
          "output_type": "stream",
          "name": "stderr",
          "text": [
            "100%|██████████| 292/292 [00:11<00:00, 25.44it/s]\n"
          ]
        },
        {
          "output_type": "stream",
          "name": "stdout",
          "text": [
            "VSM: allegroai+clearml 0.17.2 273 1 0.5 0.5\n",
            "RVSM: allegroai+clearml 0.17.2 273 1 1.0 1.0\n",
            "BM25 allegroai+clearml 0.17.2 273 1 1.0 1.0\n",
            "BERT: allegroai+clearml 0.17.2 273 1 0.2 0.2\n",
            "target_repo_num: 4 target_bug_num: 17 project_bug_num: 4\n",
            "mrr_vsm/target_bug_num 0.4600738846263143 mrr_rvsm/target_bug_num 0.5725987763526463 mrr_bm/target_bug_num 0.6085022244191793 mrr_bert/target_bug_num 0.3048727021172842 mrr_codebert/target_bug_num 0.0 map_vsm/target_bug_num 0.38830588204540983 map_rvsm/target_bug_num 0.4771993206262822 map_bm/target_bug_num 0.5274751324462903 map_bert/target_bug_num 0.24456544614638934 map_codebert/target_bug_num 0.0\n"
          ]
        },
        {
          "output_type": "stream",
          "name": "stderr",
          "text": [
            " 90%|████████▉ | 701/781 [00:22<00:02, 26.70it/s]"
          ]
        }
      ]
    },
    {
      "cell_type": "code",
      "source": [
        "nl_tokens=tokenizer(DATA, padding=True, truncation=True)\n",
        "tokens_ids=tokenizer.convert_tokens_to_ids(nl_tokens)\n",
        "model(torch.tensor(tokens_ids)[None,:])[0]"
      ],
      "metadata": {
        "id": "kwvVJd4Aiqwr"
      },
      "execution_count": null,
      "outputs": []
    },
    {
      "cell_type": "code",
      "source": [
        "result_path = \"/content/drive/MyDrive/data/scaling_data/data/harshit/Results_bert/\"\n",
        "\n",
        "results = {}\n",
        "for project in os.listdir(result_path):\n",
        "    file = [a.strip(\"\\n\").split(\"\\t\") for a in open(result_path+project+\"/\"+\"percentage.txt\", \"r\").readlines()]\n",
        "    \n",
        "    temp_results = {}\n",
        "    for data in file:\n",
        "      if(data != ['']):\n",
        "        temp_results[data[0]] = float(data[1])\n",
        "\n",
        "    print(temp_results)\n",
        "    results[project] = temp_results\n"
      ],
      "metadata": {
        "id": "8O08siYdnBJd",
        "colab": {
          "base_uri": "https://localhost:8080/"
        },
        "outputId": "8802d9de-580b-422b-f1f5-c4c2dc42798a"
      },
      "execution_count": 167,
      "outputs": [
        {
          "output_type": "stream",
          "name": "stdout",
          "text": [
            "{'target_repo_num:': 1.0, 'target_bug_num:': 6.0, 'project_bug_num:': 6.0, 'mrr_vsm/target_bug_num': 0.5527777777777777, 'mrr_rvsm/target_bug_num': 0.7326388888888888, 'mrr_bm/target_bug_num': 0.8611111111111112, 'mrr_bert/target_bug_num': 0.4669444444444444, 'mrr_codebert/target_bug_num': 0.0, 'map_vsm/target_bug_num': 0.5106225274859723, 'map_rvsm/target_bug_num': 0.6485278546849477, 'map_bm/target_bug_num': 0.7805317298590135, 'map_bert/target_bug_num': 0.34340226426429066, 'map_codebert/target_bug_num': 0.0}\n",
            "{'target_repo_num:': 2.0, 'target_bug_num:': 7.0, 'project_bug_num:': 1.0, 'mrr_vsm/target_bug_num': 0.6166666666666666, 'mrr_rvsm/target_bug_num': 0.7708333333333333, 'mrr_bm/target_bug_num': 0.880952380952381, 'mrr_bert/target_bug_num': 0.4043197278911564, 'mrr_codebert/target_bug_num': 0.0, 'map_vsm/target_bug_num': 0.5111458398859353, 'map_rvsm/target_bug_num': 0.6293504060564857, 'map_bm/target_bug_num': 0.7424678408851906, 'map_bert/target_bug_num': 0.2983976867019588, 'map_codebert/target_bug_num': 0.0}\n",
            "{'target_repo_num:': 3.0, 'target_bug_num:': 13.0, 'project_bug_num:': 6.0, 'mrr_vsm/target_bug_num': 0.5487179487179488, 'mrr_rvsm/target_bug_num': 0.657371794871795, 'mrr_bm/target_bug_num': 0.6987179487179487, 'mrr_bert/target_bug_num': 0.37747393632009013, 'mrr_codebert/target_bug_num': 0.0, 'map_vsm/target_bug_num': 0.4548674838044583, 'map_rvsm/target_bug_num': 0.5326186604603957, 'map_bm/target_bug_num': 0.5927594438303244, 'map_bert/target_bug_num': 0.29861060158892, 'map_codebert/target_bug_num': 0.0}\n",
            "{'target_repo_num:': 3.0, 'target_bug_num:': 13.0, 'project_bug_num:': 0.0, 'mrr_vsm/target_bug_num': 0.5487179487179488, 'mrr_rvsm/target_bug_num': 0.657371794871795, 'mrr_bm/target_bug_num': 0.6987179487179487, 'mrr_bert/target_bug_num': 0.37747393632009013, 'mrr_codebert/target_bug_num': 0.0, 'map_vsm/target_bug_num': 0.4548674838044583, 'map_rvsm/target_bug_num': 0.5326186604603957, 'map_bm/target_bug_num': 0.5927594438303244, 'map_bert/target_bug_num': 0.29861060158892, 'map_codebert/target_bug_num': 0.0}\n",
            "{'target_repo_num:': 4.0, 'target_bug_num:': 17.0, 'project_bug_num:': 4.0, 'mrr_vsm/target_bug_num': 0.4600738846263143, 'mrr_rvsm/target_bug_num': 0.5725987763526463, 'mrr_bm/target_bug_num': 0.6085022244191793, 'mrr_bert/target_bug_num': 0.3048727021172842, 'mrr_codebert/target_bug_num': 0.0, 'map_vsm/target_bug_num': 0.38830588204540983, 'map_rvsm/target_bug_num': 0.4771993206262822, 'map_bm/target_bug_num': 0.5274751324462903, 'map_bert/target_bug_num': 0.24456544614638934, 'map_codebert/target_bug_num': 0.0}\n",
            "{}\n"
          ]
        }
      ]
    },
    {
      "cell_type": "code",
      "source": [
        "import matplotlib\n",
        "import matplotlib.pyplot as plt\n",
        "import numpy as np\n",
        "\n",
        "font = {'family' : 'normal',\n",
        "        'weight' : 'bold',\n",
        "        'size'   : 12}\n",
        "\n",
        "matplotlib.rc('font', **font)"
      ],
      "metadata": {
        "id": "QsVnF_d92b30"
      },
      "execution_count": 168,
      "outputs": []
    },
    {
      "cell_type": "code",
      "source": [
        "columns = [\"mrr_vsm/target_bug_num\", \"mrr_rvsm/target_bug_num\", \"mrr_bm/target_bug_num\", \"mrr_bert/target_bug_num\", \"map_vsm/target_bug_num\", \"map_rvsm/target_bug_num\", \"map_bm/target_bug_num\", \"map_bert/target_bug_num\"]"
      ],
      "metadata": {
        "id": "2HSB7BwVdDLV"
      },
      "execution_count": 169,
      "outputs": []
    },
    {
      "cell_type": "code",
      "source": [
        "results.pop('apache+tvm')"
      ],
      "metadata": {
        "colab": {
          "base_uri": "https://localhost:8080/"
        },
        "id": "GVgJBxWr3N1I",
        "outputId": "18b9c126-ed08-49fd-be37-166b88e9a1f4"
      },
      "execution_count": 170,
      "outputs": [
        {
          "output_type": "execute_result",
          "data": {
            "text/plain": [
              "{}"
            ]
          },
          "metadata": {},
          "execution_count": 170
        }
      ]
    },
    {
      "cell_type": "code",
      "source": [
        "results"
      ],
      "metadata": {
        "colab": {
          "base_uri": "https://localhost:8080/"
        },
        "id": "qN3r9_XJexK1",
        "outputId": "c2e2e8d1-4b15-4da8-9caa-f32579839063"
      },
      "execution_count": 171,
      "outputs": [
        {
          "output_type": "execute_result",
          "data": {
            "text/plain": [
              "{'albumentations-team+albumentations': {'map_bert/target_bug_num': 0.29861060158892,\n",
              "  'map_bm/target_bug_num': 0.5927594438303244,\n",
              "  'map_codebert/target_bug_num': 0.0,\n",
              "  'map_rvsm/target_bug_num': 0.5326186604603957,\n",
              "  'map_vsm/target_bug_num': 0.4548674838044583,\n",
              "  'mrr_bert/target_bug_num': 0.37747393632009013,\n",
              "  'mrr_bm/target_bug_num': 0.6987179487179487,\n",
              "  'mrr_codebert/target_bug_num': 0.0,\n",
              "  'mrr_rvsm/target_bug_num': 0.657371794871795,\n",
              "  'mrr_vsm/target_bug_num': 0.5487179487179488,\n",
              "  'project_bug_num:': 6.0,\n",
              "  'target_bug_num:': 13.0,\n",
              "  'target_repo_num:': 3.0},\n",
              " 'alibaba+pipcook': {'map_bert/target_bug_num': 0.29861060158892,\n",
              "  'map_bm/target_bug_num': 0.5927594438303244,\n",
              "  'map_codebert/target_bug_num': 0.0,\n",
              "  'map_rvsm/target_bug_num': 0.5326186604603957,\n",
              "  'map_vsm/target_bug_num': 0.4548674838044583,\n",
              "  'mrr_bert/target_bug_num': 0.37747393632009013,\n",
              "  'mrr_bm/target_bug_num': 0.6987179487179487,\n",
              "  'mrr_codebert/target_bug_num': 0.0,\n",
              "  'mrr_rvsm/target_bug_num': 0.657371794871795,\n",
              "  'mrr_vsm/target_bug_num': 0.5487179487179488,\n",
              "  'project_bug_num:': 0.0,\n",
              "  'target_bug_num:': 13.0,\n",
              "  'target_repo_num:': 3.0},\n",
              " 'allegroai+clearml': {'map_bert/target_bug_num': 0.24456544614638934,\n",
              "  'map_bm/target_bug_num': 0.5274751324462903,\n",
              "  'map_codebert/target_bug_num': 0.0,\n",
              "  'map_rvsm/target_bug_num': 0.4771993206262822,\n",
              "  'map_vsm/target_bug_num': 0.38830588204540983,\n",
              "  'mrr_bert/target_bug_num': 0.3048727021172842,\n",
              "  'mrr_bm/target_bug_num': 0.6085022244191793,\n",
              "  'mrr_codebert/target_bug_num': 0.0,\n",
              "  'mrr_rvsm/target_bug_num': 0.5725987763526463,\n",
              "  'mrr_vsm/target_bug_num': 0.4600738846263143,\n",
              "  'project_bug_num:': 4.0,\n",
              "  'target_bug_num:': 17.0,\n",
              "  'target_repo_num:': 4.0},\n",
              " 'allenai+allennlp': {'map_bert/target_bug_num': 0.34340226426429066,\n",
              "  'map_bm/target_bug_num': 0.7805317298590135,\n",
              "  'map_codebert/target_bug_num': 0.0,\n",
              "  'map_rvsm/target_bug_num': 0.6485278546849477,\n",
              "  'map_vsm/target_bug_num': 0.5106225274859723,\n",
              "  'mrr_bert/target_bug_num': 0.4669444444444444,\n",
              "  'mrr_bm/target_bug_num': 0.8611111111111112,\n",
              "  'mrr_codebert/target_bug_num': 0.0,\n",
              "  'mrr_rvsm/target_bug_num': 0.7326388888888888,\n",
              "  'mrr_vsm/target_bug_num': 0.5527777777777777,\n",
              "  'project_bug_num:': 6.0,\n",
              "  'target_bug_num:': 6.0,\n",
              "  'target_repo_num:': 1.0},\n",
              " 'amaiya+ktrain': {'map_bert/target_bug_num': 0.2983976867019588,\n",
              "  'map_bm/target_bug_num': 0.7424678408851906,\n",
              "  'map_codebert/target_bug_num': 0.0,\n",
              "  'map_rvsm/target_bug_num': 0.6293504060564857,\n",
              "  'map_vsm/target_bug_num': 0.5111458398859353,\n",
              "  'mrr_bert/target_bug_num': 0.4043197278911564,\n",
              "  'mrr_bm/target_bug_num': 0.880952380952381,\n",
              "  'mrr_codebert/target_bug_num': 0.0,\n",
              "  'mrr_rvsm/target_bug_num': 0.7708333333333333,\n",
              "  'mrr_vsm/target_bug_num': 0.6166666666666666,\n",
              "  'project_bug_num:': 1.0,\n",
              "  'target_bug_num:': 7.0,\n",
              "  'target_repo_num:': 2.0}}"
            ]
          },
          "metadata": {},
          "execution_count": 171
        }
      ]
    },
    {
      "cell_type": "code",
      "source": [
        "columns"
      ],
      "metadata": {
        "colab": {
          "base_uri": "https://localhost:8080/"
        },
        "id": "qZ5Fhz_Ke58l",
        "outputId": "91b132af-ab35-4966-94dc-c04558eb866a"
      },
      "execution_count": 172,
      "outputs": [
        {
          "output_type": "execute_result",
          "data": {
            "text/plain": [
              "['mrr_vsm/target_bug_num',\n",
              " 'mrr_rvsm/target_bug_num',\n",
              " 'mrr_bm/target_bug_num',\n",
              " 'mrr_bert/target_bug_num',\n",
              " 'map_vsm/target_bug_num',\n",
              " 'map_rvsm/target_bug_num',\n",
              " 'map_bm/target_bug_num',\n",
              " 'map_bert/target_bug_num']"
            ]
          },
          "metadata": {},
          "execution_count": 172
        }
      ]
    },
    {
      "cell_type": "code",
      "source": [
        "mean = {}\n",
        "for column in columns:\n",
        "    temp_count = 0\n",
        "    count = 0\n",
        "    for result in results.values():\n",
        "        count += 1\n",
        "        temp_count += result.get(column)\n",
        "    mean[column+\"_mean\"] = temp_count/count\n"
      ],
      "metadata": {
        "id": "yhopwxWKdxj0"
      },
      "execution_count": 173,
      "outputs": []
    },
    {
      "cell_type": "code",
      "source": [
        "mean"
      ],
      "metadata": {
        "colab": {
          "base_uri": "https://localhost:8080/"
        },
        "id": "rkU7kDb6e2Rc",
        "outputId": "a2a6647b-e853-4243-a336-27f231f4a640"
      },
      "execution_count": 174,
      "outputs": [
        {
          "output_type": "execute_result",
          "data": {
            "text/plain": [
              "{'map_bert/target_bug_num_mean': 0.2967173200580958,\n",
              " 'map_bm/target_bug_num_mean': 0.6471987181702287,\n",
              " 'map_rvsm/target_bug_num_mean': 0.5640629804577014,\n",
              " 'map_vsm/target_bug_num_mean': 0.4639618434052468,\n",
              " 'mrr_bert/target_bug_num_mean': 0.386216949418613,\n",
              " 'mrr_bm/target_bug_num_mean': 0.7496003227837138,\n",
              " 'mrr_rvsm/target_bug_num_mean': 0.6781629176636916,\n",
              " 'mrr_vsm/target_bug_num_mean': 0.5453908453013312}"
            ]
          },
          "metadata": {},
          "execution_count": 174
        }
      ]
    },
    {
      "cell_type": "code",
      "source": [
        "keys = []\n",
        "values = []\n",
        "for key, result in zip(mean.keys(), mean.values()):\n",
        "    keys.append(key.split(\"/\")[0])\n",
        "    values.append(result)"
      ],
      "metadata": {
        "id": "dqskhPJhpuPz"
      },
      "execution_count": 175,
      "outputs": []
    },
    {
      "cell_type": "code",
      "source": [
        "plt.figure(figsize=(25,8)) \n",
        "plt.bar(keys,values)\n",
        "plt.title(\"Average Percentage\")\n",
        "plt.ylabel(\"Percentage\")\n",
        "plt.xlabel(\"Evaluation Matrix\")\n",
        "plt.xticks(rotation=90)\n",
        "plt.show()"
      ],
      "metadata": {
        "colab": {
          "base_uri": "https://localhost:8080/",
          "height": 515
        },
        "id": "PUQrr_GUvIt6",
        "outputId": "f7f0fbab-8eaa-4121-a606-6b4ccaa479a2"
      },
      "execution_count": 176,
      "outputs": [
        {
          "output_type": "display_data",
          "data": {
            "text/plain": [
              "<Figure size 1800x576 with 1 Axes>"
            ],
            "image/png": "[encoded data removed]"
          },
          "metadata": {
            "needs_background": "light"
          }
        }
      ]
    },
    {
      "cell_type": "markdown",
      "source": [
        "Reference:\n",
        "\n",
        "https://mccormickml.com/2019/05/14/BERT-word-embeddings-tutorial/ </br>\n",
        "https://gist.github.com/albahnsen/b02d2183c93067e3f248a428430c970e </br>\n",
        "https://github.com/RosePasta/IRBL_for_DLSW/tree/main/2_scoring"
      ],
      "metadata": {
        "id": "0llfedcI1ijw"
      }
    }
  ],
  "metadata": {
    "colab": {
      "collapsed_sections": [],
      "name": "DS_Project_bert_evaluation",
      "provenance": []
    },
    "kernelspec": {
      "display_name": "Python 3",
      "name": "python3"
    },
    "accelerator": "GPU",
    "gpuClass": "standard"
  },
  "nbformat": 4,
  "nbformat_minor": 0
}